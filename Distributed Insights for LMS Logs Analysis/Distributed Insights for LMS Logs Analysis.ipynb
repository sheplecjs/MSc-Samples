{
 "cells": [
  {
   "attachments": {},
   "cell_type": "markdown",
   "metadata": {},
   "source": [
    "# Distributed Insights for LMS Logs Analysis\n",
    "\n",
    "Data source: [Kaggle](https://www.kaggle.com/datasets/junyiacademy/learning-activity-public-dataset-by-junyi-academy)"
   ]
  },
  {
   "cell_type": "markdown",
   "metadata": {},
   "source": [
    " <a id='top'></a>\n",
    " # Contents:\n",
    " \n",
    " + [Data Overview](#overview)\n",
    " + [Aggregation and Labeling](#aggregation)\n",
    " + [Modeling and Vizualization](#modeling)"
   ]
  },
  {
   "cell_type": "code",
   "execution_count": 1,
   "metadata": {
    "scrolled": true
   },
   "outputs": [],
   "source": [
    "import sys\n",
    "from typing import List, Tuple, Optional # type hints\n",
    "import numpy as np\n",
    "\n",
    "from pyspark.sql import SparkSession\n",
    "from pyspark.sql.dataframe import DataFrame # for type hints\n",
    "\n",
    "# sql functions used in analysis\n",
    "from pyspark.sql.functions import date_trunc, count, countDistinct, round, \\\n",
    "                                  min, max, avg, sum, when, lit, to_date, udf, concat\n",
    "\n",
    "from pyspark.sql.types import StringType # for user-defined functions\n",
    "\n",
    "from pyspark.ml.classification import RandomForestClassifier\n",
    "from pyspark.ml.feature import VectorAssembler, StringIndexer # to vectorize data\n",
    "from pyspark.ml.tuning import ParamGridBuilder # hyperparameter grid search\n",
    "from pyspark.ml import Pipeline\n",
    "\n",
    "# for cross-validation and model evaluation\n",
    "from pyspark.ml.tuning import CrossValidator\n",
    "from pyspark.ml.evaluation import MulticlassClassificationEvaluator\n",
    "\n",
    "# lena spark cluster can't find pyplot unless we append this locale to path\n",
    "sys.path.append(\"/usr/local/lib/python3.8/dist-packages\")\n",
    "\n",
    "import matplotlib.pyplot as plt\n",
    "import datetime # interacting with sql datetime"
   ]
  },
  {
   "cell_type": "markdown",
   "metadata": {},
   "source": [
    "<a id='overview'></a>\n",
    "### Data Overview\n",
    "[Back to top](#Top)\n",
    "\n",
    "Some summary tables are produced, focusing on fields of interest. Binning is used to simplify summary of data, and informative crosstabulation is generated."
   ]
  },
  {
   "cell_type": "code",
   "execution_count": 2,
   "metadata": {
    "scrolled": true
   },
   "outputs": [],
   "source": [
    "# a reusable function for summarizing features\n",
    "def summary_tables(df: DataFrame, cols: Optional[List[str]], cross: Optional[List[Tuple[str, str]]]) -> None:\n",
    "    \n",
    "    # define all columns if none provided\n",
    "    if not cols:\n",
    "        cols = df.columns\n",
    "    \n",
    "    # overall summary stats\n",
    "    df.describe(cols).show()\n",
    "    \n",
    "    print(\"Null and Value counts:\")\n",
    "\n",
    "    for col in cols:\n",
    "        print(f\"\\n{col} - Null: {df.filter(df[col].isNull()).count()}\\n\") \n",
    "        df.groupBy(col).count().orderBy(\"count\", ascending=False).show()\n",
    "    \n",
    "    print(\"Crosstabs\")\n",
    "    for cro in cross:\n",
    "        print(f\"{cro} - \")\n",
    "        ct_name = cro[0] + \"_\" + cro[1]\n",
    "        \n",
    "        ct = df.crosstab(cro[0], cro[1])\n",
    "        \n",
    "        # crosstab in spark casts named column as string - check if we should recast\n",
    "        if df.select(cro[0]).dtypes[0][1] == \"int\":\n",
    "            ct = ct.withColumn(ct_name, ct[ct_name].cast(\"int\"))\n",
    "        \n",
    "        ct.sort(ct_name).show()"
   ]
  },
  {
   "cell_type": "code",
   "execution_count": 3,
   "metadata": {
    "scrolled": true
   },
   "outputs": [],
   "source": [
    "# create spark session\n",
    "spark = SparkSession.builder.appName(\"junyi_analysis\").getOrCreate()\n",
    "\n",
    "# read hdfs tabular data\n",
    "logs = spark.read.csv(\"hdfs://lena/user/cshep001/Log_Problem.csv\", header=True, inferSchema=True)\n",
    "\n",
    "users = spark.read.csv(\"hdfs://lena/user/cshep001/Info_UserData.csv\", header=True, inferSchema=True)"
   ]
  },
  {
   "cell_type": "code",
   "execution_count": 4,
   "metadata": {
    "scrolled": true
   },
   "outputs": [
    {
     "name": "stdout",
     "output_type": "stream",
     "text": [
      "root\n",
      " |-- uuid: string (nullable = true)\n",
      " |-- gender: string (nullable = true)\n",
      " |-- points: integer (nullable = true)\n",
      " |-- badges_cnt: integer (nullable = true)\n",
      " |-- first_login_date_TW: string (nullable = true)\n",
      " |-- user_grade: integer (nullable = true)\n",
      " |-- user_city: string (nullable = true)\n",
      " |-- has_teacher_cnt: integer (nullable = true)\n",
      " |-- is_self_coach: boolean (nullable = true)\n",
      " |-- has_student_cnt: integer (nullable = true)\n",
      " |-- belongs_to_class_cnt: integer (nullable = true)\n",
      " |-- has_class_cnt: integer (nullable = true)\n",
      "\n"
     ]
    }
   ],
   "source": [
    "users.printSchema()"
   ]
  },
  {
   "cell_type": "markdown",
   "metadata": {},
   "source": [
    "#### Notes:\n",
    "\n",
    "*We will create some bins to summarize data distribution for badge count and generate summary tables for columns of interest.*"
   ]
  },
  {
   "cell_type": "code",
   "execution_count": 5,
   "metadata": {
    "scrolled": true
   },
   "outputs": [],
   "source": [
    "def badges_binner(badges):\n",
    "    if badges == 0:\n",
    "        return \"none\"\n",
    "    if badges == 1:\n",
    "        return \"one\"\n",
    "    if badges > 1:\n",
    "        return \"multiple\""
   ]
  },
  {
   "cell_type": "code",
   "execution_count": 6,
   "metadata": {
    "scrolled": false
   },
   "outputs": [
    {
     "name": "stdout",
     "output_type": "stream",
     "text": [
      "+-------+-----------+------------------+------------------+------------------+------------------+\n",
      "|summary|     gender|            points|        badges_cnt|   has_teacher_cnt|        user_grade|\n",
      "+-------+-----------+------------------+------------------+------------------+------------------+\n",
      "|  count|      32905|             72758|             72758|             72758|             72758|\n",
      "|   mean|       null| 63047.58562632288|  9.54378899914786|0.8848099178097254|5.6207152478078015|\n",
      "| stddev|       null|124204.18531345883|19.036328198505878| 1.552794681417299| 2.041177791970549|\n",
      "|    min|     female|                 1|                 0|                 0|                 1|\n",
      "|    max|unspecified|           4047528|               760|               106|                12|\n",
      "+-------+-----------+------------------+------------------+------------------+------------------+\n",
      "\n",
      "Null and Value counts:\n",
      "\n",
      "gender - Null: 39853\n",
      "\n",
      "+-----------+-----+\n",
      "|     gender|count|\n",
      "+-----------+-----+\n",
      "|       null|39853|\n",
      "|     female|13099|\n",
      "|       male|12856|\n",
      "|unspecified| 6950|\n",
      "+-----------+-----+\n",
      "\n",
      "\n",
      "points - Null: 0\n",
      "\n",
      "+------+-----+\n",
      "|points|count|\n",
      "+------+-----+\n",
      "|   975|  564|\n",
      "|    75|  342|\n",
      "|  1950|  289|\n",
      "|   525|  228|\n",
      "|  1725|  215|\n",
      "|  1050|  206|\n",
      "|  1125|  199|\n",
      "|  2925|  196|\n",
      "|  2100|  173|\n",
      "|   750|  171|\n",
      "|   300|  166|\n",
      "|  1275|  165|\n",
      "|  1500|  158|\n",
      "|  1875|  156|\n",
      "|  3150|  150|\n",
      "|   225|  146|\n",
      "|  2700|  146|\n",
      "|  1200|  143|\n",
      "|  3075|  139|\n",
      "|  2250|  138|\n",
      "+------+-----+\n",
      "only showing top 20 rows\n",
      "\n",
      "\n",
      "badges_cnt - Null: 0\n",
      "\n",
      "+----------+-----+\n",
      "|badges_cnt|count|\n",
      "+----------+-----+\n",
      "|         0|19951|\n",
      "|         1|10054|\n",
      "|         2| 5356|\n",
      "|         3| 3988|\n",
      "|         4| 3591|\n",
      "|         5| 2472|\n",
      "|         6| 2471|\n",
      "|         7| 2099|\n",
      "|         8| 1768|\n",
      "|         9| 1460|\n",
      "|        10| 1409|\n",
      "|        11| 1201|\n",
      "|        12| 1130|\n",
      "|        13| 1039|\n",
      "|        14|  896|\n",
      "|        15|  816|\n",
      "|        16|  811|\n",
      "|        17|  669|\n",
      "|        18|  601|\n",
      "|        19|  575|\n",
      "+----------+-----+\n",
      "only showing top 20 rows\n",
      "\n",
      "\n",
      "has_teacher_cnt - Null: 0\n",
      "\n",
      "+---------------+-----+\n",
      "|has_teacher_cnt|count|\n",
      "+---------------+-----+\n",
      "|              1|38178|\n",
      "|              0|25534|\n",
      "|              2| 6305|\n",
      "|              3| 1545|\n",
      "|              4|  507|\n",
      "|              5|  252|\n",
      "|              6|  139|\n",
      "|              7|   49|\n",
      "|              8|   36|\n",
      "|              9|   27|\n",
      "|             10|   20|\n",
      "|             13|   20|\n",
      "|             11|   15|\n",
      "|             19|   14|\n",
      "|             12|   14|\n",
      "|             16|   12|\n",
      "|             18|   12|\n",
      "|             15|    6|\n",
      "|             20|    6|\n",
      "|             14|    6|\n",
      "+---------------+-----+\n",
      "only showing top 20 rows\n",
      "\n",
      "\n",
      "user_grade - Null: 0\n",
      "\n",
      "+----------+-----+\n",
      "|user_grade|count|\n",
      "+----------+-----+\n",
      "|         5|14720|\n",
      "|         7|12760|\n",
      "|         6|11568|\n",
      "|         4|10052|\n",
      "|         3| 8324|\n",
      "|         8| 6533|\n",
      "|         9| 3436|\n",
      "|         2| 1815|\n",
      "|         1| 1388|\n",
      "|        10| 1068|\n",
      "|        11|  570|\n",
      "|        12|  524|\n",
      "+----------+-----+\n",
      "\n",
      "Crosstabs\n",
      "('user_grade', 'badges_cnt_bin') - \n",
      "+-------------------------+--------+----+----+\n",
      "|user_grade_badges_cnt_bin|multiple|none| one|\n",
      "+-------------------------+--------+----+----+\n",
      "|                        1|     753| 369| 266|\n",
      "|                        2|    1098| 396| 321|\n",
      "|                        3|    4447|2661|1216|\n",
      "|                        4|    5196|3185|1671|\n",
      "|                        5|    9331|3388|2001|\n",
      "|                        6|    6891|3151|1526|\n",
      "|                        7|    7615|3503|1642|\n",
      "|                        8|    4137|1652| 744|\n",
      "|                        9|    2104| 932| 400|\n",
      "|                       10|     567| 363| 138|\n",
      "|                       11|     322| 178|  70|\n",
      "|                       12|     292| 173|  59|\n",
      "+-------------------------+--------+----+----+\n",
      "\n"
     ]
    }
   ],
   "source": [
    "user_cols = [\"gender\",\n",
    "             \"points\",\n",
    "             \"badges_cnt\",\n",
    "             \"has_teacher_cnt\",\n",
    "             \"user_grade\"]\n",
    "\n",
    "user_cross_cols = [(\"user_grade\", \"badges_cnt_bin\"),\n",
    "                   ]\n",
    "\n",
    "bucket_badges = udf(badges_binner, StringType())\n",
    "bin_summary_tables = users.withColumn(\"badges_cnt_bin\", bucket_badges(\"badges_cnt\"))\n",
    "\n",
    "summary_tables(bin_summary_tables, user_cols, user_cross_cols)"
   ]
  },
  {
   "cell_type": "code",
   "execution_count": 8,
   "metadata": {},
   "outputs": [
    {
     "name": "stdout",
     "output_type": "stream",
     "text": [
      "+-------------------------+--------+----+----+-----------+-----+----------+\n",
      "|user_grade_badges_cnt_bin|multiple|none| one|No badges %|one %|multiple %|\n",
      "+-------------------------+--------+----+----+-----------+-----+----------+\n",
      "|                        1|     753| 369| 266|       0.27| 0.19|      0.54|\n",
      "|                       10|     567| 363| 138|       0.34| 0.13|      0.53|\n",
      "|                       11|     322| 178|  70|       0.31| 0.12|      0.56|\n",
      "|                       12|     292| 173|  59|       0.33| 0.11|      0.56|\n",
      "|                        2|    1098| 396| 321|       0.22| 0.18|       0.6|\n",
      "|                        3|    4447|2661|1216|       0.32| 0.15|      0.53|\n",
      "|                        4|    5196|3185|1671|       0.32| 0.17|      0.52|\n",
      "|                        5|    9331|3388|2001|       0.23| 0.14|      0.63|\n",
      "|                        6|    6891|3151|1526|       0.27| 0.13|       0.6|\n",
      "|                        7|    7615|3503|1642|       0.27| 0.13|       0.6|\n",
      "|                        8|    4137|1652| 744|       0.25| 0.11|      0.63|\n",
      "|                        9|    2104| 932| 400|       0.27| 0.12|      0.61|\n",
      "+-------------------------+--------+----+----+-----------+-----+----------+\n",
      "\n"
     ]
    }
   ],
   "source": [
    "# make binned crosstab with percentages\n",
    "ct = bin_summary_tables.crosstab(\"user_grade\", \"badges_cnt_bin\")\n",
    "\n",
    "ct = ct.withColumn(\"No badges %\", round(ct.none / (ct.one + ct.multiple + ct.none), 2))\\\n",
    "       .withColumn(\"one %\", round(ct.one / (ct.one + ct.multiple + ct.none), 2))\\\n",
    "       .withColumn(\"multiple %\", round(ct.multiple / (ct.one + ct.multiple + ct.none), 2))\n",
    "\n",
    "ct.sort(\"user_grade_badges_cnt_bin\").show()"
   ]
  },
  {
   "cell_type": "markdown",
   "metadata": {},
   "source": [
    "#### Notes:\n",
    "\n",
    "*Because of the large number of null values seen in gender, we'll discard this in furhter analysis.*"
   ]
  },
  {
   "cell_type": "code",
   "execution_count": 9,
   "metadata": {
    "scrolled": true
   },
   "outputs": [
    {
     "name": "stdout",
     "output_type": "stream",
     "text": [
      "root\n",
      " |-- timestamp_TW: string (nullable = true)\n",
      " |-- uuid: string (nullable = true)\n",
      " |-- ucid: string (nullable = true)\n",
      " |-- upid: string (nullable = true)\n",
      " |-- problem_number: integer (nullable = true)\n",
      " |-- exercise_problem_repeat_session: integer (nullable = true)\n",
      " |-- is_correct: boolean (nullable = true)\n",
      " |-- total_sec_taken: integer (nullable = true)\n",
      " |-- total_attempt_cnt: integer (nullable = true)\n",
      " |-- used_hint_cnt: integer (nullable = true)\n",
      " |-- is_hint_used: boolean (nullable = true)\n",
      " |-- is_downgrade: boolean (nullable = true)\n",
      " |-- is_upgrade: boolean (nullable = true)\n",
      " |-- level: integer (nullable = true)\n",
      "\n"
     ]
    }
   ],
   "source": [
    "logs.printSchema()"
   ]
  },
  {
   "cell_type": "code",
   "execution_count": 10,
   "metadata": {},
   "outputs": [
    {
     "name": "stdout",
     "output_type": "stream",
     "text": [
      "+-------+-------------------+\n",
      "|summary|              level|\n",
      "+-------+-------------------+\n",
      "|  count|           16217311|\n",
      "|   mean|0.48279902876623626|\n",
      "| stddev| 0.9370259293337498|\n",
      "|    min|                  0|\n",
      "|    max|                  4|\n",
      "+-------+-------------------+\n",
      "\n"
     ]
    }
   ],
   "source": [
    "logs.describe([\"level\"]).show()"
   ]
  },
  {
   "cell_type": "code",
   "execution_count": 11,
   "metadata": {},
   "outputs": [
    {
     "name": "stdout",
     "output_type": "stream",
     "text": [
      "+-----+--------+\n",
      "|level|   count|\n",
      "+-----+--------+\n",
      "|    0|11809119|\n",
      "|    1| 2352668|\n",
      "|    2|  996819|\n",
      "|    3|  751424|\n",
      "|    4|  307281|\n",
      "+-----+--------+\n",
      "\n"
     ]
    }
   ],
   "source": [
    "logs.groupBy(\"level\").count().orderBy(\"count\", ascending=False).show()"
   ]
  },
  {
   "cell_type": "code",
   "execution_count": 12,
   "metadata": {},
   "outputs": [],
   "source": [
    "# create a uid for level and problem number\n",
    "logs = logs.withColumn(\"lvl_question\", concat(logs.level, logs.problem_number))\n",
    "\n",
    "# add an average time per question and use it to standardize attempt \n",
    "logs_normal = logs.groupBy(\"lvl_question\").agg(\n",
    "                    avg(logs.total_sec_taken).alias(\"avg_question\")).join(logs, [\"lvl_question\"])\n",
    "    \n",
    "logs = logs_normal.withColumn(\"attempt_timing\", (logs_normal.total_sec_taken / logs_normal.avg_question))"
   ]
  },
  {
   "cell_type": "code",
   "execution_count": 13,
   "metadata": {},
   "outputs": [],
   "source": [
    "def seconds_binner(seconds: float) -> str:\n",
    "    try:\n",
    "        if seconds == 0.00:\n",
    "            return \" 0 time taken\"\n",
    "        if seconds < 0.26 :\n",
    "            return \" 25% or less\"\n",
    "        if (seconds >= 0.26) and (seconds < 0.51):\n",
    "            return \" 26 - 50%\"\n",
    "        if (seconds >= 0.51) and (seconds < 0.76):\n",
    "            return \" 51 - 75%\"\n",
    "        if (seconds >= 0.76) and (seconds < 1.01):\n",
    "            return \" 76 - 100%\"\n",
    "        if (seconds >= 1.01) and (seconds < 1.26):\n",
    "            return \"101 - 125%\"\n",
    "        if (seconds >= 1.26) and (seconds < 1.51):\n",
    "            return \"126 - 150%\"\n",
    "        if (seconds >= 1.51) and (seconds < 1.76):\n",
    "            return \"151 - 175%\"\n",
    "        if (seconds >= 1.76) and (seconds < 2.01):\n",
    "            return \"176 - 200%\"\n",
    "        else:\n",
    "            return \"more than 200%\"\n",
    "    except TypeError:\n",
    "        return seconds"
   ]
  },
  {
   "cell_type": "code",
   "execution_count": 14,
   "metadata": {
    "scrolled": false
   },
   "outputs": [
    {
     "name": "stdout",
     "output_type": "stream",
     "text": [
      "+-------+-------------------------------+------------------+------------------+-------------------+------------------+\n",
      "|summary|exercise_problem_repeat_session|   total_sec_taken|     used_hint_cnt|              level|    attempt_timing|\n",
      "+-------+-------------------------------+------------------+------------------+-------------------+------------------+\n",
      "|  count|                       16217311|          16217311|          16217311|           16217311|          16217310|\n",
      "|   mean|               1.26121827471891| 44.38166093010118|0.5333163432581394|0.48279902876623626|1.0000000000001599|\n",
      "| stddev|             1.1734843912692965|100.53747000121683|1.1569170448469774|  0.937025929333749|2.2898490516792416|\n",
      "|    min|                              1|                 0|                 0|                  0|               0.0|\n",
      "|    max|                            119|              1800|                65|                  4| 95.05675349050482|\n",
      "+-------+-------------------------------+------------------+------------------+-------------------+------------------+\n",
      "\n",
      "Null and Value counts:\n",
      "\n",
      "exercise_problem_repeat_session - Null: 0\n",
      "\n",
      "+-------------------------------+--------+\n",
      "|exercise_problem_repeat_session|   count|\n",
      "+-------------------------------+--------+\n",
      "|                              1|13809714|\n",
      "|                              2| 1640868|\n",
      "|                              3|  424514|\n",
      "|                              4|  159510|\n",
      "|                              5|   72507|\n",
      "|                              6|   37157|\n",
      "|                              7|   21357|\n",
      "|                              8|   13598|\n",
      "|                              9|    9033|\n",
      "|                             10|    6245|\n",
      "|                             11|    4417|\n",
      "|                             12|    3251|\n",
      "|                             13|    2389|\n",
      "|                             14|    1831|\n",
      "|                             15|    1424|\n",
      "|                             16|    1134|\n",
      "|                             17|     885|\n",
      "|                             18|     718|\n",
      "|                             19|     607|\n",
      "|                             20|     500|\n",
      "+-------------------------------+--------+\n",
      "only showing top 20 rows\n",
      "\n",
      "\n",
      "is_correct - Null: 0\n",
      "\n",
      "+----------+--------+\n",
      "|is_correct|   count|\n",
      "+----------+--------+\n",
      "|      true|11412558|\n",
      "|     false| 4804753|\n",
      "+----------+--------+\n",
      "\n"
     ]
    },
    {
     "ename": "KeyboardInterrupt",
     "evalue": "",
     "output_type": "error",
     "traceback": [
      "\u001b[0;31m---------------------------------------------------------------------------\u001b[0m",
      "\u001b[0;31mKeyboardInterrupt\u001b[0m                         Traceback (most recent call last)",
      "\u001b[0;32m<ipython-input-14-38a71a39a7a0>\u001b[0m in \u001b[0;36m<module>\u001b[0;34m\u001b[0m\n\u001b[1;32m     11\u001b[0m \u001b[0mbin_summary_tables\u001b[0m \u001b[0;34m=\u001b[0m \u001b[0mlogs\u001b[0m\u001b[0;34m.\u001b[0m\u001b[0mwithColumn\u001b[0m\u001b[0;34m(\u001b[0m\u001b[0;34m\"seconds_taken_bin\"\u001b[0m\u001b[0;34m,\u001b[0m \u001b[0mbucket_sec_taken\u001b[0m\u001b[0;34m(\u001b[0m\u001b[0;34m\"attempt_timing\"\u001b[0m\u001b[0;34m)\u001b[0m\u001b[0;34m)\u001b[0m\u001b[0;34m\u001b[0m\u001b[0;34m\u001b[0m\u001b[0m\n\u001b[1;32m     12\u001b[0m \u001b[0;34m\u001b[0m\u001b[0m\n\u001b[0;32m---> 13\u001b[0;31m \u001b[0msummary_tables\u001b[0m\u001b[0;34m(\u001b[0m\u001b[0mbin_summary_tables\u001b[0m\u001b[0;34m,\u001b[0m \u001b[0mcols\u001b[0m\u001b[0;34m,\u001b[0m \u001b[0mcross_cols\u001b[0m\u001b[0;34m)\u001b[0m\u001b[0;34m\u001b[0m\u001b[0;34m\u001b[0m\u001b[0m\n\u001b[0m",
      "\u001b[0;32m<ipython-input-2-9f8b6d26686e>\u001b[0m in \u001b[0;36msummary_tables\u001b[0;34m(df, cols, cross)\u001b[0m\n\u001b[1;32m     12\u001b[0m \u001b[0;34m\u001b[0m\u001b[0m\n\u001b[1;32m     13\u001b[0m     \u001b[0;32mfor\u001b[0m \u001b[0mcol\u001b[0m \u001b[0;32min\u001b[0m \u001b[0mcols\u001b[0m\u001b[0;34m:\u001b[0m\u001b[0;34m\u001b[0m\u001b[0;34m\u001b[0m\u001b[0m\n\u001b[0;32m---> 14\u001b[0;31m         \u001b[0mprint\u001b[0m\u001b[0;34m(\u001b[0m\u001b[0;34mf\"\\n{col} - Null: {df.filter(df[col].isNull()).count()}\\n\"\u001b[0m\u001b[0;34m)\u001b[0m\u001b[0;34m\u001b[0m\u001b[0;34m\u001b[0m\u001b[0m\n\u001b[0m\u001b[1;32m     15\u001b[0m         \u001b[0mdf\u001b[0m\u001b[0;34m.\u001b[0m\u001b[0mgroupBy\u001b[0m\u001b[0;34m(\u001b[0m\u001b[0mcol\u001b[0m\u001b[0;34m)\u001b[0m\u001b[0;34m.\u001b[0m\u001b[0mcount\u001b[0m\u001b[0;34m(\u001b[0m\u001b[0;34m)\u001b[0m\u001b[0;34m.\u001b[0m\u001b[0morderBy\u001b[0m\u001b[0;34m(\u001b[0m\u001b[0;34m\"count\"\u001b[0m\u001b[0;34m,\u001b[0m \u001b[0mascending\u001b[0m\u001b[0;34m=\u001b[0m\u001b[0;32mFalse\u001b[0m\u001b[0;34m)\u001b[0m\u001b[0;34m.\u001b[0m\u001b[0mshow\u001b[0m\u001b[0;34m(\u001b[0m\u001b[0;34m)\u001b[0m\u001b[0;34m\u001b[0m\u001b[0;34m\u001b[0m\u001b[0m\n\u001b[1;32m     16\u001b[0m \u001b[0;34m\u001b[0m\u001b[0m\n",
      "\u001b[0;32m/opt/spark/current/python/lib/pyspark.zip/pyspark/sql/dataframe.py\u001b[0m in \u001b[0;36mcount\u001b[0;34m(self)\u001b[0m\n\u001b[1;32m    583\u001b[0m         \u001b[0;36m2\u001b[0m\u001b[0;34m\u001b[0m\u001b[0;34m\u001b[0m\u001b[0m\n\u001b[1;32m    584\u001b[0m         \"\"\"\n\u001b[0;32m--> 585\u001b[0;31m         \u001b[0;32mreturn\u001b[0m \u001b[0mint\u001b[0m\u001b[0;34m(\u001b[0m\u001b[0mself\u001b[0m\u001b[0;34m.\u001b[0m\u001b[0m_jdf\u001b[0m\u001b[0;34m.\u001b[0m\u001b[0mcount\u001b[0m\u001b[0;34m(\u001b[0m\u001b[0;34m)\u001b[0m\u001b[0;34m)\u001b[0m\u001b[0;34m\u001b[0m\u001b[0;34m\u001b[0m\u001b[0m\n\u001b[0m\u001b[1;32m    586\u001b[0m \u001b[0;34m\u001b[0m\u001b[0m\n\u001b[1;32m    587\u001b[0m     \u001b[0;34m@\u001b[0m\u001b[0mignore_unicode_prefix\u001b[0m\u001b[0;34m\u001b[0m\u001b[0;34m\u001b[0m\u001b[0m\n",
      "\u001b[0;32m/opt/spark/current/python/lib/py4j-0.10.9-src.zip/py4j/java_gateway.py\u001b[0m in \u001b[0;36m__call__\u001b[0;34m(self, *args)\u001b[0m\n\u001b[1;32m   1301\u001b[0m             \u001b[0mproto\u001b[0m\u001b[0;34m.\u001b[0m\u001b[0mEND_COMMAND_PART\u001b[0m\u001b[0;34m\u001b[0m\u001b[0;34m\u001b[0m\u001b[0m\n\u001b[1;32m   1302\u001b[0m \u001b[0;34m\u001b[0m\u001b[0m\n\u001b[0;32m-> 1303\u001b[0;31m         \u001b[0manswer\u001b[0m \u001b[0;34m=\u001b[0m \u001b[0mself\u001b[0m\u001b[0;34m.\u001b[0m\u001b[0mgateway_client\u001b[0m\u001b[0;34m.\u001b[0m\u001b[0msend_command\u001b[0m\u001b[0;34m(\u001b[0m\u001b[0mcommand\u001b[0m\u001b[0;34m)\u001b[0m\u001b[0;34m\u001b[0m\u001b[0;34m\u001b[0m\u001b[0m\n\u001b[0m\u001b[1;32m   1304\u001b[0m         return_value = get_return_value(\n\u001b[1;32m   1305\u001b[0m             answer, self.gateway_client, self.target_id, self.name)\n",
      "\u001b[0;32m/opt/spark/current/python/lib/py4j-0.10.9-src.zip/py4j/java_gateway.py\u001b[0m in \u001b[0;36msend_command\u001b[0;34m(self, command, retry, binary)\u001b[0m\n\u001b[1;32m   1031\u001b[0m         \u001b[0mconnection\u001b[0m \u001b[0;34m=\u001b[0m \u001b[0mself\u001b[0m\u001b[0;34m.\u001b[0m\u001b[0m_get_connection\u001b[0m\u001b[0;34m(\u001b[0m\u001b[0;34m)\u001b[0m\u001b[0;34m\u001b[0m\u001b[0;34m\u001b[0m\u001b[0m\n\u001b[1;32m   1032\u001b[0m         \u001b[0;32mtry\u001b[0m\u001b[0;34m:\u001b[0m\u001b[0;34m\u001b[0m\u001b[0;34m\u001b[0m\u001b[0m\n\u001b[0;32m-> 1033\u001b[0;31m             \u001b[0mresponse\u001b[0m \u001b[0;34m=\u001b[0m \u001b[0mconnection\u001b[0m\u001b[0;34m.\u001b[0m\u001b[0msend_command\u001b[0m\u001b[0;34m(\u001b[0m\u001b[0mcommand\u001b[0m\u001b[0;34m)\u001b[0m\u001b[0;34m\u001b[0m\u001b[0;34m\u001b[0m\u001b[0m\n\u001b[0m\u001b[1;32m   1034\u001b[0m             \u001b[0;32mif\u001b[0m \u001b[0mbinary\u001b[0m\u001b[0;34m:\u001b[0m\u001b[0;34m\u001b[0m\u001b[0;34m\u001b[0m\u001b[0m\n\u001b[1;32m   1035\u001b[0m                 \u001b[0;32mreturn\u001b[0m \u001b[0mresponse\u001b[0m\u001b[0;34m,\u001b[0m \u001b[0mself\u001b[0m\u001b[0;34m.\u001b[0m\u001b[0m_create_connection_guard\u001b[0m\u001b[0;34m(\u001b[0m\u001b[0mconnection\u001b[0m\u001b[0;34m)\u001b[0m\u001b[0;34m\u001b[0m\u001b[0;34m\u001b[0m\u001b[0m\n",
      "\u001b[0;32m/opt/spark/current/python/lib/py4j-0.10.9-src.zip/py4j/java_gateway.py\u001b[0m in \u001b[0;36msend_command\u001b[0;34m(self, command)\u001b[0m\n\u001b[1;32m   1198\u001b[0m \u001b[0;34m\u001b[0m\u001b[0m\n\u001b[1;32m   1199\u001b[0m         \u001b[0;32mtry\u001b[0m\u001b[0;34m:\u001b[0m\u001b[0;34m\u001b[0m\u001b[0;34m\u001b[0m\u001b[0m\n\u001b[0;32m-> 1200\u001b[0;31m             \u001b[0manswer\u001b[0m \u001b[0;34m=\u001b[0m \u001b[0msmart_decode\u001b[0m\u001b[0;34m(\u001b[0m\u001b[0mself\u001b[0m\u001b[0;34m.\u001b[0m\u001b[0mstream\u001b[0m\u001b[0;34m.\u001b[0m\u001b[0mreadline\u001b[0m\u001b[0;34m(\u001b[0m\u001b[0;34m)\u001b[0m\u001b[0;34m[\u001b[0m\u001b[0;34m:\u001b[0m\u001b[0;34m-\u001b[0m\u001b[0;36m1\u001b[0m\u001b[0;34m]\u001b[0m\u001b[0;34m)\u001b[0m\u001b[0;34m\u001b[0m\u001b[0;34m\u001b[0m\u001b[0m\n\u001b[0m\u001b[1;32m   1201\u001b[0m             \u001b[0mlogger\u001b[0m\u001b[0;34m.\u001b[0m\u001b[0mdebug\u001b[0m\u001b[0;34m(\u001b[0m\u001b[0;34m\"Answer received: {0}\"\u001b[0m\u001b[0;34m.\u001b[0m\u001b[0mformat\u001b[0m\u001b[0;34m(\u001b[0m\u001b[0manswer\u001b[0m\u001b[0;34m)\u001b[0m\u001b[0;34m)\u001b[0m\u001b[0;34m\u001b[0m\u001b[0;34m\u001b[0m\u001b[0m\n\u001b[1;32m   1202\u001b[0m             \u001b[0;32mif\u001b[0m \u001b[0manswer\u001b[0m\u001b[0;34m.\u001b[0m\u001b[0mstartswith\u001b[0m\u001b[0;34m(\u001b[0m\u001b[0mproto\u001b[0m\u001b[0;34m.\u001b[0m\u001b[0mRETURN_MESSAGE\u001b[0m\u001b[0;34m)\u001b[0m\u001b[0;34m:\u001b[0m\u001b[0;34m\u001b[0m\u001b[0;34m\u001b[0m\u001b[0m\n",
      "\u001b[0;32m/opt/conda/envs/python/lib/python3.8/socket.py\u001b[0m in \u001b[0;36mreadinto\u001b[0;34m(self, b)\u001b[0m\n\u001b[1;32m    667\u001b[0m         \u001b[0;32mwhile\u001b[0m \u001b[0;32mTrue\u001b[0m\u001b[0;34m:\u001b[0m\u001b[0;34m\u001b[0m\u001b[0;34m\u001b[0m\u001b[0m\n\u001b[1;32m    668\u001b[0m             \u001b[0;32mtry\u001b[0m\u001b[0;34m:\u001b[0m\u001b[0;34m\u001b[0m\u001b[0;34m\u001b[0m\u001b[0m\n\u001b[0;32m--> 669\u001b[0;31m                 \u001b[0;32mreturn\u001b[0m \u001b[0mself\u001b[0m\u001b[0;34m.\u001b[0m\u001b[0m_sock\u001b[0m\u001b[0;34m.\u001b[0m\u001b[0mrecv_into\u001b[0m\u001b[0;34m(\u001b[0m\u001b[0mb\u001b[0m\u001b[0;34m)\u001b[0m\u001b[0;34m\u001b[0m\u001b[0;34m\u001b[0m\u001b[0m\n\u001b[0m\u001b[1;32m    670\u001b[0m             \u001b[0;32mexcept\u001b[0m \u001b[0mtimeout\u001b[0m\u001b[0;34m:\u001b[0m\u001b[0;34m\u001b[0m\u001b[0;34m\u001b[0m\u001b[0m\n\u001b[1;32m    671\u001b[0m                 \u001b[0mself\u001b[0m\u001b[0;34m.\u001b[0m\u001b[0m_timeout_occurred\u001b[0m \u001b[0;34m=\u001b[0m \u001b[0;32mTrue\u001b[0m\u001b[0;34m\u001b[0m\u001b[0;34m\u001b[0m\u001b[0m\n",
      "\u001b[0;31mKeyboardInterrupt\u001b[0m: "
     ]
    }
   ],
   "source": [
    "cols = [\"exercise_problem_repeat_session\",\n",
    "        \"is_correct\",\n",
    "        \"total_sec_taken\",\n",
    "        \"used_hint_cnt\",\n",
    "        \"level\",\n",
    "        \"attempt_timing\"]\n",
    "\n",
    "cross_cols = [(\"seconds_taken_bin\", \"is_correct\"),\n",
    "              (\"used_hint_cnt\", \"is_correct\")]\n",
    "\n",
    "bucket_sec_taken = udf(seconds_binner, StringType())\n",
    "bin_summary_tables = logs.withColumn(\"seconds_taken_bin\", bucket_sec_taken(\"attempt_timing\"))\n",
    "\n",
    "summary_tables(bin_summary_tables, cols, cross_cols)"
   ]
  },
  {
   "cell_type": "markdown",
   "metadata": {},
   "source": [
    "#### Notes:\n",
    "\n",
    "*It looks like there are some discernable connections between the normalized amount of time it takes for a question to be completed and accuracy. Let's confirm this with a reformulated crosstab with percents.*"
   ]
  },
  {
   "cell_type": "code",
   "execution_count": null,
   "metadata": {},
   "outputs": [],
   "source": [
    "ct = bin_summary_tables.crosstab(\"seconds_taken_bin\", \"is_correct\")\n",
    "\n",
    "ct = ct.withColumn(\"false %\", round(ct.false / (ct.false + ct.true), 2)).withColumn(\"true %\", round(ct.true / (ct.false + ct.true), 2))\n",
    "\n",
    "ct.sort(\"seconds_taken_bin_is_correct\").show()"
   ]
  },
  {
   "cell_type": "markdown",
   "metadata": {},
   "source": [
    "<a id=\"aggregation\"></a>\n",
    "### Aggregation and Labeling\n",
    "[Back to top](#top)\n",
    "\n",
    "In order to address hypothesis about differences in grade level approaches, we will join user and log data and label users based on if they return to the platform acroos multiple days. We will then attempt to use a random forest classifier to determine what are important factors in influencing returning students across different levels. We include a filter for students that joined later in the window of time where data is available as their returning may not have been recorded."
   ]
  },
  {
   "cell_type": "code",
   "execution_count": 15,
   "metadata": {
    "scrolled": true
   },
   "outputs": [
    {
     "name": "stdout",
     "output_type": "stream",
     "text": [
      "root\n",
      " |-- lvl_question: string (nullable = true)\n",
      " |-- avg_question: double (nullable = true)\n",
      " |-- timestamp_TW: string (nullable = true)\n",
      " |-- uuid: string (nullable = true)\n",
      " |-- ucid: string (nullable = true)\n",
      " |-- upid: string (nullable = true)\n",
      " |-- problem_number: integer (nullable = true)\n",
      " |-- exercise_problem_repeat_session: integer (nullable = true)\n",
      " |-- is_correct: boolean (nullable = true)\n",
      " |-- total_sec_taken: integer (nullable = true)\n",
      " |-- total_attempt_cnt: integer (nullable = true)\n",
      " |-- used_hint_cnt: integer (nullable = true)\n",
      " |-- is_hint_used: boolean (nullable = true)\n",
      " |-- is_downgrade: boolean (nullable = true)\n",
      " |-- is_upgrade: boolean (nullable = true)\n",
      " |-- level: integer (nullable = true)\n",
      " |-- attempt_timing: double (nullable = true)\n",
      "\n"
     ]
    }
   ],
   "source": [
    "logs.printSchema()"
   ]
  },
  {
   "cell_type": "code",
   "execution_count": 16,
   "metadata": {
    "scrolled": true
   },
   "outputs": [],
   "source": [
    "# a function to join logs and user tables creating specified aggregations\n",
    "def join_to_users(logs: DataFrame, user_data: DataFrame, level: int=None) -> DataFrame:\n",
    "    \n",
    "    # filter by level if specified\n",
    "    if level:\n",
    "        logs = logs.filter(logs.level==level)\n",
    "    \n",
    "    # join logs to user data\n",
    "    joined = logs.groupBy(\"uuid\").agg(\n",
    "                    countDistinct(date_trunc(\"day\", logs.timestamp_TW)).alias(\"days\"),\n",
    "                    to_date(max(logs.timestamp_TW)).alias(\"max_date\"),\n",
    "                    to_date(min(logs.timestamp_TW)).alias(\"min_date\"),\n",
    "                    (sum(logs.used_hint_cnt) / count(logs.timestamp_TW)).alias(\"avg_hints\"),\n",
    "                    avg(logs.total_sec_taken).alias(\"avg_seconds_take\"),\n",
    "                    avg(logs.total_attempt_cnt).alias(\"avg_attempts\"),\n",
    "                    avg(logs.exercise_problem_repeat_session).alias(\"avg_repeated_sessions\"),\n",
    "                    (count(logs.is_correct) / count(logs.timestamp_TW)).alias(\"avg_correct_answers\"),\n",
    "                    avg(logs.attempt_timing).alias(\"avg_timing\"))\\\n",
    "                    .join(users, [\"uuid\"])\n",
    "    \n",
    "    # ignore users who first joined less than 3 months before the end of available data\n",
    "    filtered = joined.filter(joined.min_date < datetime.date(2019, 6, 30))\n",
    "    \n",
    "    # apply labels to students returning 5 or more distinct days, 2-4 distinct days, or just 1 day\n",
    "    labeled = filtered.withColumn(\"label\",\n",
    "                     when((filtered.days > 4), lit(3)).\n",
    "                     when((filtered.days < 5) & (\n",
    "                         filtered.days > 1), lit(2)).\n",
    "                     otherwise(lit(0)))\n",
    "    \n",
    "    return labeled"
   ]
  },
  {
   "cell_type": "code",
   "execution_count": 17,
   "metadata": {
    "scrolled": true
   },
   "outputs": [],
   "source": [
    "# level-segmented joins\n",
    "level_0 = join_to_users(logs, users, 0)\n",
    "level_1 = join_to_users(logs, users, 1)\n",
    "level_2 = join_to_users(logs, users, 2)\n",
    "level_3 = join_to_users(logs, users, 3)\n",
    "level_4 = join_to_users(logs, users, 4)\n",
    "all_levels = join_to_users(logs, users)"
   ]
  },
  {
   "cell_type": "markdown",
   "metadata": {},
   "source": [
    "<a id=\"modeling\"></a>\n",
    "### Modeling and Visualisation\n",
    "[Back to top](#top)\n",
    "\n",
    "A set of features of interest is defined, as well as model training and evaluation functions. Models for various levels are created using a random forest classifier and crossvalidation with a grid search. Parameters are limited here to reduce run time. "
   ]
  },
  {
   "cell_type": "code",
   "execution_count": 18,
   "metadata": {
    "scrolled": true
   },
   "outputs": [],
   "source": [
    "features = [\"label\", \n",
    "            \"avg_hints\", \n",
    "            \"avg_timing\",\n",
    "            \"avg_repeated_sessions\"]"
   ]
  },
  {
   "cell_type": "code",
   "execution_count": 19,
   "metadata": {},
   "outputs": [
    {
     "name": "stdout",
     "output_type": "stream",
     "text": [
      "root\n",
      " |-- label: integer (nullable = false)\n",
      " |-- avg_hints: double (nullable = true)\n",
      " |-- avg_timing: double (nullable = true)\n",
      " |-- avg_repeated_sessions: double (nullable = true)\n",
      "\n"
     ]
    }
   ],
   "source": [
    "all_levels[features].printSchema()"
   ]
  },
  {
   "cell_type": "code",
   "execution_count": 20,
   "metadata": {
    "scrolled": true
   },
   "outputs": [],
   "source": [
    "def train_model(data: DataFrame):\n",
    "    \n",
    "    # define a feature list seperate from labels\n",
    "    feature_list = []\n",
    "    for col in data.columns:\n",
    "        if col == \"label\":\n",
    "            continue\n",
    "        else:\n",
    "            feature_list.append(col)\n",
    "\n",
    "    # vectorize input features\n",
    "    assembler = VectorAssembler(inputCols=feature_list, outputCol=\"features\")\n",
    "    \n",
    "    # define classifier\n",
    "    rf = RandomForestClassifier(labelCol=\"label\", featuresCol=\"features\")\n",
    "    \n",
    "    # create pipeline with vectoizer and classifier\n",
    "    pipeline = Pipeline(stages=[assembler, rf])\n",
    "    \n",
    "    # define a grid for classifier hyperparameters\n",
    "    paramGrid = ParamGridBuilder() \\\n",
    "        .addGrid(rf.numTrees, [5, 10]) \\\n",
    "        .addGrid(rf.maxDepth, [10, 20]) \\\n",
    "        .build()\n",
    "    \n",
    "    # add everything to crossvalidator\n",
    "    crossval = CrossValidator(estimator=pipeline,\n",
    "                          estimatorParamMaps=paramGrid,\n",
    "                          evaluator=MulticlassClassificationEvaluator(),\n",
    "                          numFolds=3)\n",
    "    \n",
    "    # define a holdout test split\n",
    "    (trainingData, testData) = data.randomSplit([0.8, 0.2])\n",
    "    \n",
    "    # fit the model\n",
    "    cvModel = crossval.fit(trainingData)\n",
    "    \n",
    "    return cvModel, testData"
   ]
  },
  {
   "cell_type": "code",
   "execution_count": 21,
   "metadata": {},
   "outputs": [],
   "source": [
    "# train models for each level individually and together\n",
    "model_lvl_0, lvl_0_test = train_model(level_0[features])\n",
    "model_lvl_1, lvl_1_test = train_model(level_1[features])\n",
    "model_lvl_2, lvl_2_test = train_model(level_2[features])\n",
    "model_lvl_3, lvl_3_test = train_model(level_3[features])\n",
    "model_lvl_4, lvl_4_test = train_model(level_4[features])\n",
    "model_all_levels, test_all_levels = train_model(all_levels[features])"
   ]
  },
  {
   "cell_type": "code",
   "execution_count": 45,
   "metadata": {},
   "outputs": [],
   "source": [
    "# an evaluation function that should facilitate charting feature importances\n",
    "def test_evaluation(model, test_data):\n",
    "    \n",
    "    # grab the best model from the pipeline\n",
    "    best = model.bestModel\n",
    "    \n",
    "    # transform test features and score classifier\n",
    "    prediction = best.transform(test_data)\n",
    "    results = MulticlassClassificationEvaluator(labelCol=\"label\", predictionCol=\"prediction\")\n",
    "    score = results.evaluate(prediction)\n",
    "    \n",
    "    # get feature importances\n",
    "    importances = best.stages[1].featureImportances\n",
    "    x = list(range(len(importances)))\n",
    "\n",
    "    return x, importances, score"
   ]
  },
  {
   "cell_type": "code",
   "execution_count": 47,
   "metadata": {},
   "outputs": [],
   "source": [
    "lvl0_x, lvl0_importances, lvl0_score = test_evaluation(model_lvl_0, lvl_0_test)\n",
    "lvl1_x, lvl1_importances, lvl1_score = test_evaluation(model_lvl_1, lvl_1_test)\n",
    "lvl2_x, lvl2_importances, lvl2_score = test_evaluation(model_lvl_2, lvl_2_test)\n",
    "lvl3_x, lvl3_importances, lvl3_score = test_evaluation(model_lvl_3, lvl_3_test)\n",
    "lvl4_x, lvl4_importances, lvl4_score = test_evaluation(model_lvl_4, lvl_4_test)\n",
    "lvlall_x, lvlall_importnaces, lvlall_score = test_evaluation(model_all_levels, test_all_levels)"
   ]
  },
  {
   "cell_type": "code",
   "execution_count": 61,
   "metadata": {},
   "outputs": [
    {
     "data": {
      "image/png": "[encoded data removed]",
      "text/plain": [
       "<Figure size 720x504 with 1 Axes>"
      ]
     },
     "metadata": {
      "needs_background": "light"
     },
     "output_type": "display_data"
    }
   ],
   "source": [
    "# plot importances by level\n",
    "\n",
    "\n",
    "labels = features\n",
    "x = np.arange(len(labels))\n",
    "width = 0.15  # the width of the bars\n",
    "\n",
    "fig, ax = plt.subplots(figsize=(10, 7))\n",
    "rects1 = ax.bar(x - 2 * (width), lvl0_importances, width, label=\"Level 0\")\n",
    "rects2 = ax.bar(x - 1 * (width), lvl1_importances, width, label=\"Level 1\")\n",
    "rects3 = ax.bar(x, lvl2_importances, width, label=\"Level 2\")\n",
    "rects4 = ax.bar(x + 1 * (width), lvl3_importances, width, label=\"Level 3\")\n",
    "rects5 = ax.bar(x + 2 * (width), lvl4_importances, width, label=\"Level 4\")\n",
    "\n",
    "# Add some text for labels, title and custom x-axis tick labels, etc.\n",
    "ax.set_ylabel(\"Feature Importance - avg Impurity\")\n",
    "ax.set_title(\"Features by level\")\n",
    "ax.set_xticks(x, labels)\n",
    "ax.legend()\n",
    "\n",
    "# ax.bar_label(rects1, padding=4)\n",
    "# ax.bar_label(rects2, padding=3)\n",
    "\n",
    "fig.tight_layout()\n",
    "\n",
    "plt.savefig(\"feature_importance.png\")\n",
    "plt.show()"
   ]
  },
  {
   "cell_type": "code",
   "execution_count": 62,
   "metadata": {
    "scrolled": true
   },
   "outputs": [],
   "source": [
    "# stop our spark instance\n",
    "\n",
    "spark.stop()"
   ]
  },
  {
   "cell_type": "markdown",
   "metadata": {},
   "source": [
    "<a id=\"references\"></a>\n",
    "### References\n",
    "[Back to top](#top)\n",
    "\n",
    "Li, R., Singh, J. & Bunk, J. (2018). Technology Tools in Distance Education: A Review of Faculty Adoption. In T. Bastiaens, J. Van Braak, M. Brown, L. Cantoni, M. Castro, R. Christensen, G. Davidson-Shivers, K. DePryck, M. Ebner, M. Fominykh, C. Fulford, S. Hatzipanagos, G. Knezek, K. Kreijns, G. Marks, E. Sointu, E. Korsgaard Sorensen, J. Viteli, J. Voogt, P. Weber, E. Weippl & O. Zawacki-Richter (Eds.), Proceedings of EdMedia: World Conference on Educational Media and Technology (pp. 1982-1987). Amsterdam, Netherlands: Association for the Advancement of Computing in Education (AACE). Retrieved March 27, 2022 from https://www.learntechlib.org/primary/p/184436/.\n",
    "\n",
    "P. J. Chen, M. E. Hsieh, T. Y. Tsai. Junyi Online Learning Dataset: A large-scale public online learning activity dataset from elementary to senior high school students., 2020. Available from https://www.kaggle.com/datasets/junyiacademy/learning-activity-public-dataset-by-junyi-academy"
   ]
  },
  {
   "cell_type": "code",
   "execution_count": null,
   "metadata": {},
   "outputs": [],
   "source": []
  }
 ],
 "metadata": {
  "kernelspec": {
   "display_name": "Python 3.10.3 64-bit ('3.10.3')",
   "language": "python",
   "name": "python3"
  },
  "language_info": {
   "codemirror_mode": {
    "name": "ipython",
    "version": 3
   },
   "file_extension": ".py",
   "mimetype": "text/x-python",
   "name": "python",
   "nbconvert_exporter": "python",
   "pygments_lexer": "ipython3",
   "version": "3.10.3 (main, Oct 25 2022, 14:37:17) [Clang 14.0.0 (clang-1400.0.29.201)]"
  },
  "vscode": {
   "interpreter": {
    "hash": "8cf06770f2fa784057669666c6b3ee896eb76f0ce462832233f4c57797d4e486"
   }
  }
 },
 "nbformat": 4,
 "nbformat_minor": 4
}
